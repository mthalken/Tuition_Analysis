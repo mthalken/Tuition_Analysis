{
 "cells": [
  {
   "cell_type": "code",
   "execution_count": 1,
   "id": "b85aef9f",
   "metadata": {},
   "outputs": [],
   "source": [
    "#Dependencies\n",
    "import pandas as pd\n",
    "import numpy as np\n",
    "import matplotlib as mpl"
   ]
  },
  {
   "cell_type": "markdown",
   "id": "1b577ad0",
   "metadata": {},
   "source": [
    "### Loading CSV's"
   ]
  },
  {
   "cell_type": "code",
   "execution_count": 2,
   "id": "bcf5f036",
   "metadata": {},
   "outputs": [],
   "source": [
    "# load files\n",
    "grad_rates_df = pd.read_csv(\"Resources/grad-rates.csv\")\n",
    "financial_aid_df = pd.read_csv(\"Resources/financial-aid.csv\")"
   ]
  },
  {
   "cell_type": "markdown",
   "id": "6fc84d89",
   "metadata": {},
   "source": [
    "### Graduation rates"
   ]
  },
  {
   "cell_type": "code",
   "execution_count": 69,
   "id": "ae60aace",
   "metadata": {},
   "outputs": [],
   "source": [
    "# rates function\n",
    "def filt_rates(cur_df, year_input, length_input): \n",
    "    final_df = {}\n",
    "    df = {}\n",
    "    for columns in cur_df:\n",
    "        unit = cur_df.filter(regex='UnitID')\n",
    "        institution = cur_df.filter(regex='Institution Name')\n",
    "        main = cur_df.filter(regex='HD2016')\n",
    "        rates = cur_df.filter(regex=year_input)\n",
    "        for column in rates:\n",
    "            year = cur_df.filter(regex=year_input)\n",
    "            for column in year:\n",
    "                length = year.filter(regex=length_input)\n",
    "                for column in length:\n",
    "                    calc = length.filter(regex='CALCULATED')\n",
    "                    df = unit.join(institution).join(main).join(calc)\n",
    "                return df\n",
    "        return df\n",
    "        for row in df:\n",
    "            rows_to_keep = [row for rows in df.rows if df[row].isna().sum() >= 9]\n",
    "            final_df = df[rows_to_keep] #.dropna(axis=0, thresh=6, inplace=True)\n",
    "        return final_df\n",
    "    return final_df"
   ]
  },
  {
   "cell_type": "code",
   "execution_count": 97,
   "id": "03c5857d",
   "metadata": {
    "scrolled": true
   },
   "outputs": [
    {
     "name": "stderr",
     "output_type": "stream",
     "text": [
      "C:\\Users\\mthal\\AppData\\Local\\Temp/ipykernel_28408/4178343466.py:8: FutureWarning: Dropping of nuisance columns in DataFrame reductions (with 'numeric_only=None') is deprecated; in a future version this will raise TypeError.  Select only valid columns before calling the reduction.\n",
      "  avg = final_rates_2016.mean()\n"
     ]
    }
   ],
   "source": [
    "#2016 rates\n",
    "final_rates = filt_rates(grad_rates_df, '2016', '4-yr')\n",
    "columns = final_rates.columns.to_list()[6:]\n",
    "final_rates_2016 = final_rates.dropna(subset=columns, thresh=1).reset_index(drop=True)\n",
    "avg_2016 = []\n",
    "\n",
    "for column in final_rates_2016:\n",
    "    avg = final_rates_2016.mean()\n",
    "    for column in avg:\n",
    "        calc = avg.filter(regex='CALCULATED')\n",
    "avg_2016_4 = pd.DataFrame(calc)\n",
    "avg_2016_4.to_csv(\"Resources/Data/2016_rates_4.csv\")"
   ]
  },
  {
   "cell_type": "code",
   "execution_count": 98,
   "id": "717de907",
   "metadata": {},
   "outputs": [
    {
     "name": "stderr",
     "output_type": "stream",
     "text": [
      "C:\\Users\\mthal\\AppData\\Local\\Temp/ipykernel_28408/2043467282.py:8: FutureWarning: Dropping of nuisance columns in DataFrame reductions (with 'numeric_only=None') is deprecated; in a future version this will raise TypeError.  Select only valid columns before calling the reduction.\n",
      "  avg = final_rates_2016.mean()\n"
     ]
    }
   ],
   "source": [
    "#2016 rates\n",
    "final_rates = filt_rates(grad_rates_df, '2016', '2-yr')\n",
    "columns = final_rates.columns.to_list()[6:]\n",
    "final_rates_2016 = final_rates.dropna(subset=columns, thresh=1).reset_index(drop=True)\n",
    "avg_2016 = []\n",
    "\n",
    "for column in final_rates_2016:\n",
    "    avg = final_rates_2016.mean()\n",
    "    for column in avg:\n",
    "        calc = avg.filter(regex='CALCULATED')\n",
    "avg_2016_2 = pd.DataFrame(calc)\n",
    "avg_2016_2.to_csv(\"Resources/Data/2016_rates_2.csv\")"
   ]
  },
  {
   "cell_type": "code",
   "execution_count": 91,
   "id": "989410d4",
   "metadata": {},
   "outputs": [
    {
     "name": "stderr",
     "output_type": "stream",
     "text": [
      "C:\\Users\\mthal\\AppData\\Local\\Temp/ipykernel_28408/3113945758.py:8: FutureWarning: Dropping of nuisance columns in DataFrame reductions (with 'numeric_only=None') is deprecated; in a future version this will raise TypeError.  Select only valid columns before calling the reduction.\n",
      "  avg = final_rates_2015.mean()\n"
     ]
    }
   ],
   "source": [
    "#2015 rates\n",
    "final_rates = filt_rates(grad_rates_df, '2015', '4-yr')\n",
    "columns = final_rates.columns.to_list()[6:]\n",
    "final_rates_2015 = final_rates.dropna(subset=columns, thresh=1).reset_index(drop=True)\n",
    "avg_2015 = []\n",
    "\n",
    "for column in final_rates_2015:\n",
    "    avg = final_rates_2015.mean()\n",
    "    for column in avg:\n",
    "        calc = avg.filter(regex='CALCULATED')\n",
    "avg_2015_4 = pd.DataFrame(calc)\n",
    "avg_2015_4.to_csv(\"Resources/Data/2015_rates_4.csv\")"
   ]
  },
  {
   "cell_type": "code",
   "execution_count": 99,
   "id": "29c812c7",
   "metadata": {},
   "outputs": [
    {
     "name": "stderr",
     "output_type": "stream",
     "text": [
      "C:\\Users\\mthal\\AppData\\Local\\Temp/ipykernel_28408/1002866936.py:8: FutureWarning: Dropping of nuisance columns in DataFrame reductions (with 'numeric_only=None') is deprecated; in a future version this will raise TypeError.  Select only valid columns before calling the reduction.\n",
      "  avg = final_rates_2015.mean()\n"
     ]
    }
   ],
   "source": [
    "#2015 rates\n",
    "final_rates = filt_rates(grad_rates_df, '2015', '2-yr')\n",
    "columns = final_rates.columns.to_list()[6:]\n",
    "final_rates_2015 = final_rates.dropna(subset=columns, thresh=1).reset_index(drop=True)\n",
    "avg_2015 = []\n",
    "\n",
    "for column in final_rates_2015:\n",
    "    avg = final_rates_2015.mean()\n",
    "    for column in avg:\n",
    "        calc = avg.filter(regex='CALCULATED')\n",
    "avg_2015_2 = pd.DataFrame(calc)\n",
    "avg_2015_2.to_csv(\"Resources/Data/2015_rates_2.csv\")"
   ]
  },
  {
   "cell_type": "code",
   "execution_count": 92,
   "id": "2b5220e4",
   "metadata": {},
   "outputs": [
    {
     "name": "stderr",
     "output_type": "stream",
     "text": [
      "C:\\Users\\mthal\\AppData\\Local\\Temp/ipykernel_28408/1582201384.py:8: FutureWarning: Dropping of nuisance columns in DataFrame reductions (with 'numeric_only=None') is deprecated; in a future version this will raise TypeError.  Select only valid columns before calling the reduction.\n",
      "  avg = final_rates_2014.mean()\n"
     ]
    }
   ],
   "source": [
    "#2014 rates\n",
    "final_rates = filt_rates(grad_rates_df, '2014', '4-yr')\n",
    "columns = final_rates.columns.to_list()[6:]\n",
    "final_rates_2014 = final_rates.dropna(subset=columns, thresh=1).reset_index(drop=True)\n",
    "avg_2014 = []\n",
    "\n",
    "for column in final_rates_2014:\n",
    "    avg = final_rates_2014.mean()\n",
    "    for column in avg:\n",
    "        calc = avg.filter(regex='CALCULATED')\n",
    "avg_2014_4 = pd.DataFrame(calc)\n",
    "avg_2014_4.to_csv(\"Resources/Data/2014_rates_4.csv\")"
   ]
  },
  {
   "cell_type": "code",
   "execution_count": 100,
   "id": "d40d9976",
   "metadata": {},
   "outputs": [
    {
     "name": "stderr",
     "output_type": "stream",
     "text": [
      "C:\\Users\\mthal\\AppData\\Local\\Temp/ipykernel_28408/2614821683.py:8: FutureWarning: Dropping of nuisance columns in DataFrame reductions (with 'numeric_only=None') is deprecated; in a future version this will raise TypeError.  Select only valid columns before calling the reduction.\n",
      "  avg = final_rates_2014.mean()\n"
     ]
    }
   ],
   "source": [
    "#2014 rates\n",
    "final_rates = filt_rates(grad_rates_df, '2014', '2-yr')\n",
    "columns = final_rates.columns.to_list()[6:]\n",
    "final_rates_2014 = final_rates.dropna(subset=columns, thresh=1).reset_index(drop=True)\n",
    "avg_2014 = []\n",
    "\n",
    "for column in final_rates_2014:\n",
    "    avg = final_rates_2014.mean()\n",
    "    for column in avg:\n",
    "        calc = avg.filter(regex='CALCULATED')\n",
    "avg_2014_2 = pd.DataFrame(calc)\n",
    "avg_2014_2.to_csv(\"Resources/Data/2014_rates_2.csv\")"
   ]
  },
  {
   "cell_type": "code",
   "execution_count": 93,
   "id": "e327a4bb",
   "metadata": {},
   "outputs": [
    {
     "name": "stderr",
     "output_type": "stream",
     "text": [
      "C:\\Users\\mthal\\AppData\\Local\\Temp/ipykernel_28408/2077659684.py:8: FutureWarning: Dropping of nuisance columns in DataFrame reductions (with 'numeric_only=None') is deprecated; in a future version this will raise TypeError.  Select only valid columns before calling the reduction.\n",
      "  avg = final_rates_2013.mean()\n"
     ]
    }
   ],
   "source": [
    "#2013 rates\n",
    "final_rates = filt_rates(grad_rates_df, '2013', '4-yr')\n",
    "columns = final_rates.columns.to_list()[6:]\n",
    "final_rates_2013 = final_rates.dropna(subset=columns, thresh=1).reset_index(drop=True)\n",
    "avg_2013 = []\n",
    "\n",
    "for column in final_rates_2013:\n",
    "    avg = final_rates_2013.mean()\n",
    "    for column in avg:\n",
    "        calc = avg.filter(regex='CALCULATED')\n",
    "avg_2013_4 = pd.DataFrame(calc)\n",
    "avg_2013_4.to_csv(\"Resources/Data/2013_rates_4.csv\")"
   ]
  },
  {
   "cell_type": "code",
   "execution_count": 101,
   "id": "b5e2e158",
   "metadata": {},
   "outputs": [
    {
     "name": "stderr",
     "output_type": "stream",
     "text": [
      "C:\\Users\\mthal\\AppData\\Local\\Temp/ipykernel_28408/2399552832.py:8: FutureWarning: Dropping of nuisance columns in DataFrame reductions (with 'numeric_only=None') is deprecated; in a future version this will raise TypeError.  Select only valid columns before calling the reduction.\n",
      "  avg = final_rates_2013.mean()\n"
     ]
    }
   ],
   "source": [
    "#2013 rates\n",
    "final_rates = filt_rates(grad_rates_df, '2013', '2-yr')\n",
    "columns = final_rates.columns.to_list()[6:]\n",
    "final_rates_2013 = final_rates.dropna(subset=columns, thresh=1).reset_index(drop=True)\n",
    "avg_2013 = []\n",
    "\n",
    "for column in final_rates_2013:\n",
    "    avg = final_rates_2013.mean()\n",
    "    for column in avg:\n",
    "        calc = avg.filter(regex='CALCULATED')\n",
    "avg_2013_2 = pd.DataFrame(calc)\n",
    "avg_2013_2.to_csv(\"Resources/Data/2013_rates_2.csv\")"
   ]
  },
  {
   "cell_type": "code",
   "execution_count": 94,
   "id": "c99ae089",
   "metadata": {},
   "outputs": [
    {
     "name": "stderr",
     "output_type": "stream",
     "text": [
      "C:\\Users\\mthal\\AppData\\Local\\Temp/ipykernel_28408/1938694429.py:8: FutureWarning: Dropping of nuisance columns in DataFrame reductions (with 'numeric_only=None') is deprecated; in a future version this will raise TypeError.  Select only valid columns before calling the reduction.\n",
      "  avg = final_rates_2012.mean()\n"
     ]
    }
   ],
   "source": [
    "#2012 rates\n",
    "final_rates = filt_rates(grad_rates_df, '2012', '4-yr')\n",
    "columns = final_rates.columns.to_list()[6:]\n",
    "final_rates_2012 = final_rates.dropna(subset=columns, thresh=1).reset_index(drop=True)\n",
    "avg_2012 = []\n",
    "\n",
    "for column in final_rates_2012:\n",
    "    avg = final_rates_2012.mean()\n",
    "    for column in avg:\n",
    "        calc = avg.filter(regex='CALCULATED')\n",
    "avg_2012_4 = pd.DataFrame(calc)\n",
    "avg_2012_4.to_csv(\"Resources/Data/2012_rates_4.csv\")"
   ]
  },
  {
   "cell_type": "code",
   "execution_count": 102,
   "id": "3875da88",
   "metadata": {},
   "outputs": [
    {
     "name": "stderr",
     "output_type": "stream",
     "text": [
      "C:\\Users\\mthal\\AppData\\Local\\Temp/ipykernel_28408/2154844880.py:8: FutureWarning: Dropping of nuisance columns in DataFrame reductions (with 'numeric_only=None') is deprecated; in a future version this will raise TypeError.  Select only valid columns before calling the reduction.\n",
      "  avg = final_rates_2012.mean()\n"
     ]
    }
   ],
   "source": [
    "#2012 rates\n",
    "final_rates = filt_rates(grad_rates_df, '2012', '2-yr')\n",
    "columns = final_rates.columns.to_list()[6:]\n",
    "final_rates_2012 = final_rates.dropna(subset=columns, thresh=1).reset_index(drop=True)\n",
    "avg_2012 = []\n",
    "\n",
    "for column in final_rates_2012:\n",
    "    avg = final_rates_2012.mean()\n",
    "    for column in avg:\n",
    "        calc = avg.filter(regex='CALCULATED')\n",
    "avg_2012_2 = pd.DataFrame(calc)\n",
    "avg_2012_2.to_csv(\"Resources/Data/2012_rates_2.csv\")"
   ]
  },
  {
   "cell_type": "code",
   "execution_count": 95,
   "id": "4ee3f7b5",
   "metadata": {},
   "outputs": [
    {
     "name": "stderr",
     "output_type": "stream",
     "text": [
      "C:\\Users\\mthal\\AppData\\Local\\Temp/ipykernel_28408/3040842728.py:8: FutureWarning: Dropping of nuisance columns in DataFrame reductions (with 'numeric_only=None') is deprecated; in a future version this will raise TypeError.  Select only valid columns before calling the reduction.\n",
      "  avg = final_rates_2011.mean()\n"
     ]
    }
   ],
   "source": [
    "#2011 rates\n",
    "final_rates = filt_rates(grad_rates_df, '2011', '4-yr')\n",
    "columns = final_rates.columns.to_list()[6:]\n",
    "final_rates_2011 = final_rates.dropna(subset=columns, thresh=1).reset_index(drop=True)\n",
    "avg_2011 = []\n",
    "\n",
    "for column in final_rates_2011:\n",
    "    avg = final_rates_2011.mean()\n",
    "    for column in avg:\n",
    "        calc = avg.filter(regex='CALCULATED')\n",
    "avg_2011_4 = pd.DataFrame(calc)\n",
    "avg_2011_4.to_csv(\"Resources/Data/2011_rates_4.csv\")"
   ]
  },
  {
   "cell_type": "code",
   "execution_count": 103,
   "id": "3a1be567",
   "metadata": {},
   "outputs": [
    {
     "name": "stderr",
     "output_type": "stream",
     "text": [
      "C:\\Users\\mthal\\AppData\\Local\\Temp/ipykernel_28408/1788376993.py:8: FutureWarning: Dropping of nuisance columns in DataFrame reductions (with 'numeric_only=None') is deprecated; in a future version this will raise TypeError.  Select only valid columns before calling the reduction.\n",
      "  avg = final_rates_2011.mean()\n"
     ]
    }
   ],
   "source": [
    "#2011 rates\n",
    "final_rates = filt_rates(grad_rates_df, '2011', '2-yr')\n",
    "columns = final_rates.columns.to_list()[6:]\n",
    "final_rates_2011 = final_rates.dropna(subset=columns, thresh=1).reset_index(drop=True)\n",
    "avg_2011 = []\n",
    "\n",
    "for column in final_rates_2011:\n",
    "    avg = final_rates_2011.mean()\n",
    "    for column in avg:\n",
    "        calc = avg.filter(regex='CALCULATED')\n",
    "avg_2011_2 = pd.DataFrame(calc)\n",
    "avg_2011_2.to_csv(\"Resources/Data/2011_rates_2.csv\")"
   ]
  },
  {
   "cell_type": "code",
   "execution_count": null,
   "id": "9bb22b92",
   "metadata": {},
   "outputs": [],
   "source": []
  }
 ],
 "metadata": {
  "kernelspec": {
   "display_name": "Python 3 (ipykernel)",
   "language": "python",
   "name": "python3"
  },
  "language_info": {
   "codemirror_mode": {
    "name": "ipython",
    "version": 3
   },
   "file_extension": ".py",
   "mimetype": "text/x-python",
   "name": "python",
   "nbconvert_exporter": "python",
   "pygments_lexer": "ipython3",
   "version": "3.8.8"
  }
 },
 "nbformat": 4,
 "nbformat_minor": 5
}
