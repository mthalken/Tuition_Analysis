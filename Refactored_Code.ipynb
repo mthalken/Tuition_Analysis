{
 "cells": [
  {
   "cell_type": "code",
   "execution_count": 1,
   "id": "c50b68af",
   "metadata": {},
   "outputs": [],
   "source": [
    "#Dependencies\n",
    "import pandas as pd\n",
    "import numpy as np\n",
    "import matplotlib as mpl"
   ]
  },
  {
   "cell_type": "markdown",
   "id": "d4469f85",
   "metadata": {},
   "source": [
    "### Loading CSV's"
   ]
  },
  {
   "cell_type": "code",
   "execution_count": 2,
   "id": "c7655166",
   "metadata": {},
   "outputs": [],
   "source": [
    "# load files\n",
    "grad_rates_df = pd.read_csv(\"Resources/grad-rates.csv\")\n",
    "cost_attendance_df = pd.read_csv(\"Resources/cost-attendance.csv\")"
   ]
  },
  {
   "cell_type": "markdown",
   "id": "70b0ec46",
   "metadata": {},
   "source": [
    "### Graduation rates per year (mean)"
   ]
  },
  {
   "cell_type": "code",
   "execution_count": 3,
   "id": "c563b49a",
   "metadata": {},
   "outputs": [],
   "source": [
    "# rates function\n",
    "def filt_rates(cur_df, year_input, length_input): \n",
    "    final_df = {}\n",
    "    df = {}\n",
    "    for columns in cur_df:\n",
    "        unit = cur_df.filter(regex='UnitID')\n",
    "        institution = cur_df.filter(regex='Institution Name')\n",
    "        main = cur_df.filter(regex='HD2016')\n",
    "        rates = cur_df.filter(regex=year_input)\n",
    "        for column in rates:\n",
    "            year = cur_df.filter(regex=year_input)\n",
    "            for column in year:\n",
    "                length = year.filter(regex=length_input)\n",
    "                for column in length:\n",
    "                    calc = length.filter(regex='CALCULATED')\n",
    "                    df = unit.join(institution).join(main).join(calc)\n",
    "                return df\n",
    "        return df\n",
    "        for row in df:\n",
    "            rows_to_keep = [row for rows in df.rows if df[row].isna().sum() >= 9]\n",
    "            final_df = df[rows_to_keep] #.dropna(axis=0, thresh=6, inplace=True)\n",
    "        return final_df\n",
    "    return final_df"
   ]
  },
  {
   "cell_type": "code",
   "execution_count": 4,
   "id": "a34a32a2",
   "metadata": {
    "scrolled": true
   },
   "outputs": [
    {
     "name": "stderr",
     "output_type": "stream",
     "text": [
      "C:\\Users\\mthal\\AppData\\Local\\Temp/ipykernel_10236/4178343466.py:8: FutureWarning: Dropping of nuisance columns in DataFrame reductions (with 'numeric_only=None') is deprecated; in a future version this will raise TypeError.  Select only valid columns before calling the reduction.\n",
      "  avg = final_rates_2016.mean()\n"
     ]
    }
   ],
   "source": [
    "#2016 rates\n",
    "final_rates = filt_rates(grad_rates_df, '2016', '4-yr')\n",
    "columns = final_rates.columns.to_list()[6:]\n",
    "final_rates_2016 = final_rates.dropna(subset=columns, thresh=1).reset_index(drop=True)\n",
    "avg_2016 = []\n",
    "\n",
    "for column in final_rates_2016:\n",
    "    avg = final_rates_2016.mean()\n",
    "    for column in avg:\n",
    "        calc = avg.filter(regex='CALCULATED')\n",
    "avg_2016_4 = pd.DataFrame(calc)\n",
    "avg_2016_4.to_csv(\"Resources/Data/2016_rates_4.csv\")"
   ]
  },
  {
   "cell_type": "code",
   "execution_count": 5,
   "id": "ac9c1ccf",
   "metadata": {},
   "outputs": [
    {
     "name": "stderr",
     "output_type": "stream",
     "text": [
      "C:\\Users\\mthal\\AppData\\Local\\Temp/ipykernel_10236/2043467282.py:8: FutureWarning: Dropping of nuisance columns in DataFrame reductions (with 'numeric_only=None') is deprecated; in a future version this will raise TypeError.  Select only valid columns before calling the reduction.\n",
      "  avg = final_rates_2016.mean()\n"
     ]
    }
   ],
   "source": [
    "#2016 rates\n",
    "final_rates = filt_rates(grad_rates_df, '2016', '2-yr')\n",
    "columns = final_rates.columns.to_list()[6:]\n",
    "final_rates_2016 = final_rates.dropna(subset=columns, thresh=1).reset_index(drop=True)\n",
    "avg_2016 = []\n",
    "\n",
    "for column in final_rates_2016:\n",
    "    avg = final_rates_2016.mean()\n",
    "    for column in avg:\n",
    "        calc = avg.filter(regex='CALCULATED')\n",
    "avg_2016_2 = pd.DataFrame(calc)\n",
    "avg_2016_2.to_csv(\"Resources/Data/2016_rates_2.csv\")"
   ]
  },
  {
   "cell_type": "code",
   "execution_count": 6,
   "id": "9d24d06f",
   "metadata": {},
   "outputs": [
    {
     "name": "stderr",
     "output_type": "stream",
     "text": [
      "C:\\Users\\mthal\\AppData\\Local\\Temp/ipykernel_10236/3113945758.py:8: FutureWarning: Dropping of nuisance columns in DataFrame reductions (with 'numeric_only=None') is deprecated; in a future version this will raise TypeError.  Select only valid columns before calling the reduction.\n",
      "  avg = final_rates_2015.mean()\n"
     ]
    }
   ],
   "source": [
    "#2015 rates\n",
    "final_rates = filt_rates(grad_rates_df, '2015', '4-yr')\n",
    "columns = final_rates.columns.to_list()[6:]\n",
    "final_rates_2015 = final_rates.dropna(subset=columns, thresh=1).reset_index(drop=True)\n",
    "avg_2015 = []\n",
    "\n",
    "for column in final_rates_2015:\n",
    "    avg = final_rates_2015.mean()\n",
    "    for column in avg:\n",
    "        calc = avg.filter(regex='CALCULATED')\n",
    "avg_2015_4 = pd.DataFrame(calc)\n",
    "avg_2015_4.to_csv(\"Resources/Data/2015_rates_4.csv\")"
   ]
  },
  {
   "cell_type": "code",
   "execution_count": 7,
   "id": "dca5f123",
   "metadata": {},
   "outputs": [
    {
     "name": "stderr",
     "output_type": "stream",
     "text": [
      "C:\\Users\\mthal\\AppData\\Local\\Temp/ipykernel_10236/1002866936.py:8: FutureWarning: Dropping of nuisance columns in DataFrame reductions (with 'numeric_only=None') is deprecated; in a future version this will raise TypeError.  Select only valid columns before calling the reduction.\n",
      "  avg = final_rates_2015.mean()\n"
     ]
    }
   ],
   "source": [
    "#2015 rates\n",
    "final_rates = filt_rates(grad_rates_df, '2015', '2-yr')\n",
    "columns = final_rates.columns.to_list()[6:]\n",
    "final_rates_2015 = final_rates.dropna(subset=columns, thresh=1).reset_index(drop=True)\n",
    "avg_2015 = []\n",
    "\n",
    "for column in final_rates_2015:\n",
    "    avg = final_rates_2015.mean()\n",
    "    for column in avg:\n",
    "        calc = avg.filter(regex='CALCULATED')\n",
    "avg_2015_2 = pd.DataFrame(calc)\n",
    "avg_2015_2.to_csv(\"Resources/Data/2015_rates_2.csv\")"
   ]
  },
  {
   "cell_type": "code",
   "execution_count": 8,
   "id": "fae98d99",
   "metadata": {},
   "outputs": [
    {
     "name": "stderr",
     "output_type": "stream",
     "text": [
      "C:\\Users\\mthal\\AppData\\Local\\Temp/ipykernel_10236/1582201384.py:8: FutureWarning: Dropping of nuisance columns in DataFrame reductions (with 'numeric_only=None') is deprecated; in a future version this will raise TypeError.  Select only valid columns before calling the reduction.\n",
      "  avg = final_rates_2014.mean()\n"
     ]
    }
   ],
   "source": [
    "#2014 rates\n",
    "final_rates = filt_rates(grad_rates_df, '2014', '4-yr')\n",
    "columns = final_rates.columns.to_list()[6:]\n",
    "final_rates_2014 = final_rates.dropna(subset=columns, thresh=1).reset_index(drop=True)\n",
    "avg_2014 = []\n",
    "\n",
    "for column in final_rates_2014:\n",
    "    avg = final_rates_2014.mean()\n",
    "    for column in avg:\n",
    "        calc = avg.filter(regex='CALCULATED')\n",
    "avg_2014_4 = pd.DataFrame(calc)\n",
    "avg_2014_4.to_csv(\"Resources/Data/2014_rates_4.csv\")"
   ]
  },
  {
   "cell_type": "code",
   "execution_count": 9,
   "id": "27be8574",
   "metadata": {},
   "outputs": [
    {
     "name": "stderr",
     "output_type": "stream",
     "text": [
      "C:\\Users\\mthal\\AppData\\Local\\Temp/ipykernel_10236/2614821683.py:8: FutureWarning: Dropping of nuisance columns in DataFrame reductions (with 'numeric_only=None') is deprecated; in a future version this will raise TypeError.  Select only valid columns before calling the reduction.\n",
      "  avg = final_rates_2014.mean()\n"
     ]
    }
   ],
   "source": [
    "#2014 rates\n",
    "final_rates = filt_rates(grad_rates_df, '2014', '2-yr')\n",
    "columns = final_rates.columns.to_list()[6:]\n",
    "final_rates_2014 = final_rates.dropna(subset=columns, thresh=1).reset_index(drop=True)\n",
    "avg_2014 = []\n",
    "\n",
    "for column in final_rates_2014:\n",
    "    avg = final_rates_2014.mean()\n",
    "    for column in avg:\n",
    "        calc = avg.filter(regex='CALCULATED')\n",
    "avg_2014_2 = pd.DataFrame(calc)\n",
    "avg_2014_2.to_csv(\"Resources/Data/2014_rates_2.csv\")"
   ]
  },
  {
   "cell_type": "code",
   "execution_count": 10,
   "id": "e6ec4ada",
   "metadata": {},
   "outputs": [
    {
     "name": "stderr",
     "output_type": "stream",
     "text": [
      "C:\\Users\\mthal\\AppData\\Local\\Temp/ipykernel_10236/2077659684.py:8: FutureWarning: Dropping of nuisance columns in DataFrame reductions (with 'numeric_only=None') is deprecated; in a future version this will raise TypeError.  Select only valid columns before calling the reduction.\n",
      "  avg = final_rates_2013.mean()\n"
     ]
    }
   ],
   "source": [
    "#2013 rates\n",
    "final_rates = filt_rates(grad_rates_df, '2013', '4-yr')\n",
    "columns = final_rates.columns.to_list()[6:]\n",
    "final_rates_2013 = final_rates.dropna(subset=columns, thresh=1).reset_index(drop=True)\n",
    "avg_2013 = []\n",
    "\n",
    "for column in final_rates_2013:\n",
    "    avg = final_rates_2013.mean()\n",
    "    for column in avg:\n",
    "        calc = avg.filter(regex='CALCULATED')\n",
    "avg_2013_4 = pd.DataFrame(calc)\n",
    "avg_2013_4.to_csv(\"Resources/Data/2013_rates_4.csv\")"
   ]
  },
  {
   "cell_type": "code",
   "execution_count": 11,
   "id": "87332b11",
   "metadata": {},
   "outputs": [
    {
     "name": "stderr",
     "output_type": "stream",
     "text": [
      "C:\\Users\\mthal\\AppData\\Local\\Temp/ipykernel_10236/2399552832.py:8: FutureWarning: Dropping of nuisance columns in DataFrame reductions (with 'numeric_only=None') is deprecated; in a future version this will raise TypeError.  Select only valid columns before calling the reduction.\n",
      "  avg = final_rates_2013.mean()\n"
     ]
    }
   ],
   "source": [
    "#2013 rates\n",
    "final_rates = filt_rates(grad_rates_df, '2013', '2-yr')\n",
    "columns = final_rates.columns.to_list()[6:]\n",
    "final_rates_2013 = final_rates.dropna(subset=columns, thresh=1).reset_index(drop=True)\n",
    "avg_2013 = []\n",
    "\n",
    "for column in final_rates_2013:\n",
    "    avg = final_rates_2013.mean()\n",
    "    for column in avg:\n",
    "        calc = avg.filter(regex='CALCULATED')\n",
    "avg_2013_2 = pd.DataFrame(calc)\n",
    "avg_2013_2.to_csv(\"Resources/Data/2013_rates_2.csv\")"
   ]
  },
  {
   "cell_type": "code",
   "execution_count": 12,
   "id": "8171f673",
   "metadata": {},
   "outputs": [
    {
     "name": "stderr",
     "output_type": "stream",
     "text": [
      "C:\\Users\\mthal\\AppData\\Local\\Temp/ipykernel_10236/1938694429.py:8: FutureWarning: Dropping of nuisance columns in DataFrame reductions (with 'numeric_only=None') is deprecated; in a future version this will raise TypeError.  Select only valid columns before calling the reduction.\n",
      "  avg = final_rates_2012.mean()\n"
     ]
    }
   ],
   "source": [
    "#2012 rates\n",
    "final_rates = filt_rates(grad_rates_df, '2012', '4-yr')\n",
    "columns = final_rates.columns.to_list()[6:]\n",
    "final_rates_2012 = final_rates.dropna(subset=columns, thresh=1).reset_index(drop=True)\n",
    "avg_2012 = []\n",
    "\n",
    "for column in final_rates_2012:\n",
    "    avg = final_rates_2012.mean()\n",
    "    for column in avg:\n",
    "        calc = avg.filter(regex='CALCULATED')\n",
    "avg_2012_4 = pd.DataFrame(calc)\n",
    "avg_2012_4.to_csv(\"Resources/Data/2012_rates_4.csv\")"
   ]
  },
  {
   "cell_type": "code",
   "execution_count": 13,
   "id": "341ddf47",
   "metadata": {},
   "outputs": [
    {
     "name": "stderr",
     "output_type": "stream",
     "text": [
      "C:\\Users\\mthal\\AppData\\Local\\Temp/ipykernel_10236/2154844880.py:8: FutureWarning: Dropping of nuisance columns in DataFrame reductions (with 'numeric_only=None') is deprecated; in a future version this will raise TypeError.  Select only valid columns before calling the reduction.\n",
      "  avg = final_rates_2012.mean()\n"
     ]
    }
   ],
   "source": [
    "#2012 rates\n",
    "final_rates = filt_rates(grad_rates_df, '2012', '2-yr')\n",
    "columns = final_rates.columns.to_list()[6:]\n",
    "final_rates_2012 = final_rates.dropna(subset=columns, thresh=1).reset_index(drop=True)\n",
    "avg_2012 = []\n",
    "\n",
    "for column in final_rates_2012:\n",
    "    avg = final_rates_2012.mean()\n",
    "    for column in avg:\n",
    "        calc = avg.filter(regex='CALCULATED')\n",
    "avg_2012_2 = pd.DataFrame(calc)\n",
    "avg_2012_2.to_csv(\"Resources/Data/2012_rates_2.csv\")"
   ]
  },
  {
   "cell_type": "code",
   "execution_count": 14,
   "id": "167c0d18",
   "metadata": {},
   "outputs": [
    {
     "name": "stderr",
     "output_type": "stream",
     "text": [
      "C:\\Users\\mthal\\AppData\\Local\\Temp/ipykernel_10236/3233167362.py:8: FutureWarning: Dropping of nuisance columns in DataFrame reductions (with 'numeric_only=None') is deprecated; in a future version this will raise TypeError.  Select only valid columns before calling the reduction.\n",
      "  avg = final_rates_2011.mean()\n"
     ]
    }
   ],
   "source": [
    "#2011 rates\n",
    "final_rates = filt_rates(grad_rates_df, '2011', '4-yr')\n",
    "columns = final_rates.columns.to_list()[6:]\n",
    "final_rates_2011 = final_rates.dropna(subset=columns, thresh=1).reset_index(drop=True)\n",
    "avg_2011 = []\n",
    "\n",
    "for column in final_rates_2011:\n",
    "    avg = final_rates_2011.mean()\n",
    "    for column in avg:\n",
    "        calc = avg.filter(regex='CALCULATED')\n",
    "avg_2011_4 = pd.DataFrame(calc)\n",
    "avg_2011_4.to_csv(\"Resources/Data/2011_rates_4.csv\")"
   ]
  },
  {
   "cell_type": "code",
   "execution_count": 15,
   "id": "2a5b19a3",
   "metadata": {},
   "outputs": [
    {
     "name": "stderr",
     "output_type": "stream",
     "text": [
      "C:\\Users\\mthal\\AppData\\Local\\Temp/ipykernel_10236/1788376993.py:8: FutureWarning: Dropping of nuisance columns in DataFrame reductions (with 'numeric_only=None') is deprecated; in a future version this will raise TypeError.  Select only valid columns before calling the reduction.\n",
      "  avg = final_rates_2011.mean()\n"
     ]
    }
   ],
   "source": [
    "#2011 rates\n",
    "final_rates = filt_rates(grad_rates_df, '2011', '2-yr')\n",
    "columns = final_rates.columns.to_list()[6:]\n",
    "final_rates_2011 = final_rates.dropna(subset=columns, thresh=1).reset_index(drop=True)\n",
    "avg_2011 = []\n",
    "\n",
    "for column in final_rates_2011:\n",
    "    avg = final_rates_2011.mean()\n",
    "    for column in avg:\n",
    "        calc = avg.filter(regex='CALCULATED')\n",
    "avg_2011_2 = pd.DataFrame(calc)\n",
    "avg_2011_2.to_csv(\"Resources/Data/2011_rates_2.csv\")"
   ]
  },
  {
   "cell_type": "code",
   "execution_count": null,
   "id": "a122dce4",
   "metadata": {},
   "outputs": [],
   "source": []
  },
  {
   "cell_type": "markdown",
   "id": "aea70a10",
   "metadata": {},
   "source": [
    "### Graduation rates per year "
   ]
  },
  {
   "cell_type": "code",
   "execution_count": 16,
   "id": "06ce8eca",
   "metadata": {},
   "outputs": [],
   "source": [
    "# rates function\n",
    "def filt_total_rates(cur_df, year_input): \n",
    "    final_df = {}\n",
    "    df = {}\n",
    "    for columns in cur_df:\n",
    "        unit = cur_df.filter(regex='UnitID')\n",
    "        institution = cur_df.filter(regex='Institution Name')\n",
    "        main = cur_df.filter(regex='HD2016')\n",
    "        rates = cur_df.filter(regex=year_input)\n",
    "        for column in rates:\n",
    "            year = cur_df.filter(regex=year_input)\n",
    "            for column in year:\n",
    "                calc = year.filter(regex='CALCULATED')\n",
    "                df = unit.join(institution).join(main).join(calc)\n",
    "            return df\n",
    "        return df\n",
    "        for row in df:\n",
    "            rows_to_keep = [row for rows in df.rows if df[row].isna().sum() >= 9]\n",
    "            final_df = df[rows_to_keep] \n",
    "        return final_df\n",
    "    return final_df"
   ]
  },
  {
   "cell_type": "code",
   "execution_count": 17,
   "id": "76de7c02",
   "metadata": {},
   "outputs": [],
   "source": [
    "#2011 rates\n",
    "year_rates = filt_total_rates(grad_rates_df, '2011')\n",
    "\n",
    "columns = year_rates.columns.to_list()[6:]\n",
    "\n",
    "df_2011 = year_rates.dropna(subset=columns, thresh=1).reset_index(drop=True)\n",
    "df_2011.to_csv(\"Resources/Data/2011_rates.csv\")"
   ]
  },
  {
   "cell_type": "code",
   "execution_count": 18,
   "id": "9b534302",
   "metadata": {},
   "outputs": [],
   "source": [
    "#2012 rates\n",
    "year_rates = filt_total_rates(grad_rates_df, '2012')\n",
    "\n",
    "columns = year_rates.columns.to_list()[6:]\n",
    "\n",
    "df_2012 = year_rates.dropna(subset=columns, thresh=1).reset_index(drop=True)\n",
    "df_2012.to_csv(\"Resources/Data/2012_rates.csv\")"
   ]
  },
  {
   "cell_type": "code",
   "execution_count": 19,
   "id": "7998f40a",
   "metadata": {},
   "outputs": [],
   "source": [
    "#2013 rates\n",
    "year_rates = filt_total_rates(grad_rates_df, '2013')\n",
    "\n",
    "columns = year_rates.columns.to_list()[6:]\n",
    "\n",
    "df_2013 = year_rates.dropna(subset=columns, thresh=1).reset_index(drop=True)\n",
    "df_2013.to_csv(\"Resources/Data/2013_rates.csv\")"
   ]
  },
  {
   "cell_type": "code",
   "execution_count": 20,
   "id": "028089df",
   "metadata": {},
   "outputs": [],
   "source": [
    "#2014 rates\n",
    "year_rates = filt_total_rates(grad_rates_df, '2014')\n",
    "\n",
    "columns = year_rates.columns.to_list()[6:]\n",
    "\n",
    "df_2014 = year_rates.dropna(subset=columns, thresh=1).reset_index(drop=True)\n",
    "df_2014.to_csv(\"Resources/Data/2014_rates.csv\")"
   ]
  },
  {
   "cell_type": "code",
   "execution_count": 21,
   "id": "59cc6d84",
   "metadata": {},
   "outputs": [],
   "source": [
    "#2015 rates\n",
    "year_rates = filt_total_rates(grad_rates_df, '2015')\n",
    "\n",
    "columns = year_rates.columns.to_list()[6:]\n",
    "\n",
    "df_2015 = year_rates.dropna(subset=columns, thresh=1).reset_index(drop=True)\n",
    "df_2015.to_csv(\"Resources/Data/2015_rates.csv\")"
   ]
  },
  {
   "cell_type": "code",
   "execution_count": 22,
   "id": "7ac9c5e2",
   "metadata": {},
   "outputs": [],
   "source": [
    "#2016 rates\n",
    "year_rates = filt_total_rates(grad_rates_df, '2016')\n",
    "\n",
    "columns = year_rates.columns.to_list()[6:]\n",
    "\n",
    "df_2016 = year_rates.dropna(subset=columns, thresh=1).reset_index(drop=True)\n",
    "df_2016.to_csv(\"Resources/Data/2016_rates.csv\")"
   ]
  },
  {
   "cell_type": "code",
   "execution_count": null,
   "id": "aad33a94",
   "metadata": {},
   "outputs": [],
   "source": []
  },
  {
   "cell_type": "markdown",
   "id": "b728cbfe",
   "metadata": {},
   "source": [
    "### Cost "
   ]
  },
  {
   "cell_type": "code",
   "execution_count": 23,
   "id": "2a24959b",
   "metadata": {},
   "outputs": [
    {
     "name": "stderr",
     "output_type": "stream",
     "text": [
      "C:\\Users\\mthal\\AppData\\Local\\Temp/ipykernel_10236/850379153.py:13: FutureWarning: Dropping of nuisance columns in DataFrame reductions (with 'numeric_only=None') is deprecated; in a future version this will raise TypeError.  Select only valid columns before calling the reduction.\n",
      "  final_cost_2017 = pd.DataFrame(filtered.mean())[1:]\n"
     ]
    }
   ],
   "source": [
    "#2017\n",
    "for column in cost_attendance_df:    \n",
    "    unit = cost_attendance_df.filter(regex='UnitID')\n",
    "    institution = cost_attendance_df.filter(regex='Institution Name')\n",
    "    main = cost_attendance_df.filter(regex='HD2016')\n",
    "    cost_2017 = cost_attendance_df.filter(regex='2017-18')\n",
    "\n",
    "cost = unit.join(institution).join(main).join(cost_2017)\n",
    "\n",
    "columns = cost.columns.to_list()[6:]\n",
    "filtered = cost.dropna(subset=columns, thresh=1).reset_index(drop=True)\n",
    "for column in filtered:\n",
    "    final_cost_2017 = pd.DataFrame(filtered.mean())[1:]\n",
    "final_cost_2017.to_csv(\"Resources/Data/2017_cost.csv\")"
   ]
  },
  {
   "cell_type": "code",
   "execution_count": 24,
   "id": "e3e0508b",
   "metadata": {},
   "outputs": [
    {
     "name": "stderr",
     "output_type": "stream",
     "text": [
      "C:\\Users\\mthal\\AppData\\Local\\Temp/ipykernel_10236/1586828155.py:13: FutureWarning: Dropping of nuisance columns in DataFrame reductions (with 'numeric_only=None') is deprecated; in a future version this will raise TypeError.  Select only valid columns before calling the reduction.\n",
      "  final_cost_2016 = pd.DataFrame(filtered.mean())[1:]\n"
     ]
    }
   ],
   "source": [
    "#2016\n",
    "for column in cost_attendance_df:    \n",
    "    unit = cost_attendance_df.filter(regex='UnitID')\n",
    "    institution = cost_attendance_df.filter(regex='Institution Name')\n",
    "    main = cost_attendance_df.filter(regex='HD2016')\n",
    "    cost_2016 = cost_attendance_df.filter(regex='2016-17')\n",
    "\n",
    "cost = unit.join(institution).join(main).join(cost_2016)\n",
    "\n",
    "columns = cost.columns.to_list()[6:]\n",
    "filtered = cost.dropna(subset=columns, thresh=1).reset_index(drop=True)\n",
    "for column in filtered:\n",
    "    final_cost_2016 = pd.DataFrame(filtered.mean())[1:]\n",
    "final_cost_2016.to_csv(\"Resources/Data/2016_cost.csv\")"
   ]
  },
  {
   "cell_type": "code",
   "execution_count": 25,
   "id": "b6769f8b",
   "metadata": {},
   "outputs": [
    {
     "name": "stderr",
     "output_type": "stream",
     "text": [
      "C:\\Users\\mthal\\AppData\\Local\\Temp/ipykernel_10236/3327950412.py:13: FutureWarning: Dropping of nuisance columns in DataFrame reductions (with 'numeric_only=None') is deprecated; in a future version this will raise TypeError.  Select only valid columns before calling the reduction.\n",
      "  final_cost_2015 = pd.DataFrame(filtered.mean())[1:]\n"
     ]
    }
   ],
   "source": [
    "#2015\n",
    "for column in cost_attendance_df:    \n",
    "    unit = cost_attendance_df.filter(regex='UnitID')\n",
    "    institution = cost_attendance_df.filter(regex='Institution Name')\n",
    "    main = cost_attendance_df.filter(regex='HD2016')\n",
    "    cost_2015 = cost_attendance_df.filter(regex='2015-16')\n",
    "\n",
    "cost = unit.join(institution).join(main).join(cost_2015)\n",
    "\n",
    "columns = cost.columns.to_list()[6:]\n",
    "filtered = cost.dropna(subset=columns, thresh=1).reset_index(drop=True)\n",
    "for column in filtered:\n",
    "    final_cost_2015 = pd.DataFrame(filtered.mean())[1:]\n",
    "final_cost_2015.to_csv(\"Resources/Data/2015_cost.csv\")"
   ]
  },
  {
   "cell_type": "code",
   "execution_count": 26,
   "id": "c6f6e58d",
   "metadata": {},
   "outputs": [
    {
     "name": "stderr",
     "output_type": "stream",
     "text": [
      "C:\\Users\\mthal\\AppData\\Local\\Temp/ipykernel_10236/3152348994.py:13: FutureWarning: Dropping of nuisance columns in DataFrame reductions (with 'numeric_only=None') is deprecated; in a future version this will raise TypeError.  Select only valid columns before calling the reduction.\n",
      "  final_cost_2014 = pd.DataFrame(filtered.mean())[1:]\n"
     ]
    }
   ],
   "source": [
    "#2014\n",
    "for column in cost_attendance_df:    \n",
    "    unit = cost_attendance_df.filter(regex='UnitID')\n",
    "    institution = cost_attendance_df.filter(regex='Institution Name')\n",
    "    main = cost_attendance_df.filter(regex='HD2016')\n",
    "    cost_2014 = cost_attendance_df.filter(regex='2014-15')\n",
    "\n",
    "cost = unit.join(institution).join(main).join(cost_2014)\n",
    "\n",
    "columns = cost.columns.to_list()[6:]\n",
    "filtered = cost.dropna(subset=columns, thresh=1).reset_index(drop=True)\n",
    "for column in filtered:\n",
    "    final_cost_2014 = pd.DataFrame(filtered.mean())[1:]\n",
    "final_cost_2014.to_csv(\"Resources/Data/2014_cost.csv\")"
   ]
  },
  {
   "cell_type": "code",
   "execution_count": 27,
   "id": "34997d05",
   "metadata": {},
   "outputs": [
    {
     "name": "stderr",
     "output_type": "stream",
     "text": [
      "C:\\Users\\mthal\\AppData\\Local\\Temp/ipykernel_10236/281133106.py:13: FutureWarning: Dropping of nuisance columns in DataFrame reductions (with 'numeric_only=None') is deprecated; in a future version this will raise TypeError.  Select only valid columns before calling the reduction.\n",
      "  final_cost_2013 = pd.DataFrame(filtered.mean())[1:]\n"
     ]
    }
   ],
   "source": [
    "#2013\n",
    "for column in cost_attendance_df:    \n",
    "    unit = cost_attendance_df.filter(regex='UnitID')\n",
    "    institution = cost_attendance_df.filter(regex='Institution Name')\n",
    "    main = cost_attendance_df.filter(regex='HD2016')\n",
    "    cost_2013 = cost_attendance_df.filter(regex='2013-14')\n",
    "\n",
    "cost = unit.join(institution).join(main).join(cost_2013)\n",
    "\n",
    "columns = cost.columns.to_list()[6:]\n",
    "filtered = cost.dropna(subset=columns, thresh=1).reset_index(drop=True)\n",
    "for column in filtered:\n",
    "    final_cost_2013 = pd.DataFrame(filtered.mean())[1:]\n",
    "final_cost_2013.to_csv(\"Resources/Data/2013_cost.csv\")"
   ]
  },
  {
   "cell_type": "code",
   "execution_count": 28,
   "id": "791e9145",
   "metadata": {},
   "outputs": [
    {
     "name": "stderr",
     "output_type": "stream",
     "text": [
      "C:\\Users\\mthal\\AppData\\Local\\Temp/ipykernel_10236/3578706038.py:13: FutureWarning: Dropping of nuisance columns in DataFrame reductions (with 'numeric_only=None') is deprecated; in a future version this will raise TypeError.  Select only valid columns before calling the reduction.\n",
      "  final_cost_2012 = pd.DataFrame(filtered.mean())[1:]\n"
     ]
    }
   ],
   "source": [
    "#2012\n",
    "for column in cost_attendance_df:    \n",
    "    unit = cost_attendance_df.filter(regex='UnitID')\n",
    "    institution = cost_attendance_df.filter(regex='Institution Name')\n",
    "    main = cost_attendance_df.filter(regex='HD2016')\n",
    "    cost_2012 = cost_attendance_df.filter(regex='2012-13')\n",
    "\n",
    "cost = unit.join(institution).join(main).join(cost_2012)\n",
    "\n",
    "columns = cost.columns.to_list()[6:]\n",
    "filtered = cost.dropna(subset=columns, thresh=1).reset_index(drop=True)\n",
    "for column in filtered:\n",
    "    final_cost_2012 = pd.DataFrame(filtered.mean())[1:]\n",
    "final_cost_2012.to_csv(\"Resources/Data/2012_cost.csv\")"
   ]
  },
  {
   "cell_type": "code",
   "execution_count": 29,
   "id": "1d47cab1",
   "metadata": {},
   "outputs": [
    {
     "name": "stderr",
     "output_type": "stream",
     "text": [
      "C:\\Users\\mthal\\AppData\\Local\\Temp/ipykernel_10236/4112568711.py:13: FutureWarning: Dropping of nuisance columns in DataFrame reductions (with 'numeric_only=None') is deprecated; in a future version this will raise TypeError.  Select only valid columns before calling the reduction.\n",
      "  final_cost_2011 = pd.DataFrame(filtered.mean())[1:]\n"
     ]
    }
   ],
   "source": [
    "#2011\n",
    "for column in cost_attendance_df:    \n",
    "    unit = cost_attendance_df.filter(regex='UnitID')\n",
    "    institution = cost_attendance_df.filter(regex='Institution Name')\n",
    "    main = cost_attendance_df.filter(regex='HD2016')\n",
    "    cost_2016 = cost_attendance_df.filter(regex='2011-12')\n",
    "\n",
    "cost = unit.join(institution).join(main).join(cost_2017)\n",
    "\n",
    "columns = cost.columns.to_list()[6:]\n",
    "filtered = cost.dropna(subset=columns, thresh=1).reset_index(drop=True)\n",
    "for column in filtered:\n",
    "    final_cost_2011 = pd.DataFrame(filtered.mean())[1:]\n",
    "final_cost_2011.to_csv(\"Resources/Data/2011_cost.csv\")"
   ]
  }
 ],
 "metadata": {
  "kernelspec": {
   "display_name": "Python 3 (ipykernel)",
   "language": "python",
   "name": "python3"
  },
  "language_info": {
   "codemirror_mode": {
    "name": "ipython",
    "version": 3
   },
   "file_extension": ".py",
   "mimetype": "text/x-python",
   "name": "python",
   "nbconvert_exporter": "python",
   "pygments_lexer": "ipython3",
   "version": "3.8.8"
  }
 },
 "nbformat": 4,
 "nbformat_minor": 5
}
